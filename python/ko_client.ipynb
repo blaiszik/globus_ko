{
 "cells": [
  {
   "cell_type": "code",
   "execution_count": 11,
   "metadata": {
    "collapsed": false
   },
   "outputs": [
    {
     "name": "stdout",
     "output_type": "stream",
     "text": [
      "[{u'name': u'KO1', u'data_type': u'ko', u'date_updated': u'2015-11-24T22:07:26.133Z', u'object': 1, u'tag': [{u'object': 2, u'key': u'a'}, {u'object': u'ben', u'key': u'b'}], u'uri': [], u'__v': 0, u'key': u'depth', u'owner': u'blaiszik', u'date_created': u'2015-11-24T22:07:26.133Z', u'_id': u'5654dd4c52f54646c6a83374', u'data': [[1, 2, 3, 4, 5], [1, 4, 9, 16, 25]]}, {u'name': u'KO2', u'data_type': u'ko', u'date_updated': u'2015-11-24T22:07:26.134Z', u'object': 1, u'tag': [{u'object': 5, u'key': u'a'}, {u'object': 5, u'key': u'b'}], u'uri': [], u'__v': 0, u'key': u'depth', u'owner': u'blaiszik', u'date_created': u'2015-11-24T22:07:26.134Z', u'_id': u'5654dd4c52f54646c6a83375', u'data': [[1, 2, 3, 4, 5], [1, 8, 27, 64, 125]]}]\n",
      "Creating\n",
      "{u'data_type': u'ko', u'date_updated': u'2015-11-24T22:44:25.757Z', u'object': u'python', u'tag': [], u'uri': [u'http://google.com'], u'__v': 0, u'key': u'test', u'owner': u'blaiszik', u'date_created': u'2015-11-24T22:44:25.757Z', u'_id': u'5654e8494fbb206ac65f011a'}\n"
     ]
    }
   ],
   "source": [
    "import requests\n",
    "service_location = \"http://localhost:3000\"\n",
    "\n",
    "\n",
    "def get_ko(id=None, **kw):\n",
    "    global service_location\n",
    "    \n",
    "    if id is None:\n",
    "        return\n",
    "    return requests.get(service_location+'/collection/%s/member'%(id))\n",
    "\n",
    "def create_ko(ko):\n",
    "    return requests.post(service_location+'/ko', data = ko)\n",
    "\n",
    "    #http://localhost:3000/collection/564f47e7bd51c082a7e6e2c0/member\n",
    "r = get_ko(id=\"564f47e7bd51c082a7e6e2c0\")\n",
    "r.status_code\n",
    "print r.json()\n",
    "\n",
    "# key:String,\n",
    "#   object: Schema.Types.Mixed,\n",
    "#   data: Schema.Types.Mixed,\n",
    "#   data_type: {type:String, default:\"ko\"},\n",
    "#   tag:[tagSchema],\n",
    "#   uri:['String'],\n",
    "\n",
    "print \"Creating\"\n",
    "sample_ko = {\"owner\":\"blaiszik\",\"key\":\"test\",\"object\":\"python\",\"uri\":[\"http://google.com\"]}\n",
    "r = create_ko(sample_ko)\n",
    "print r.json()"
   ]
  },
  {
   "cell_type": "code",
   "execution_count": null,
   "metadata": {
    "collapsed": true
   },
   "outputs": [],
   "source": []
  }
 ],
 "metadata": {
  "kernelspec": {
   "display_name": "Python 2",
   "language": "python",
   "name": "python2"
  },
  "language_info": {
   "codemirror_mode": {
    "name": "ipython",
    "version": 2
   },
   "file_extension": ".py",
   "mimetype": "text/x-python",
   "name": "python",
   "nbconvert_exporter": "python",
   "pygments_lexer": "ipython2",
   "version": "2.7.10"
  }
 },
 "nbformat": 4,
 "nbformat_minor": 0
}
