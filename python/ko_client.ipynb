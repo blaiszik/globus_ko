{
 "cells": [
  {
   "cell_type": "code",
   "execution_count": null,
   "metadata": {
    "collapsed": false
   },
   "outputs": [],
   "source": [
    "import requests\n",
    "import json\n",
    "import os\n",
    "\n",
    "import pandas as pd\n",
    "import numpy as np\n",
    "import seaborn as sns\n",
    "import matplotlib\n",
    "import matplotlib.pyplot as plt\n",
    "import scipy\n",
    "from scipy import *\n",
    "\n",
    "%matplotlib inline \n",
    "\n",
    "#Scikitlearn imports\n",
    "from sklearn.datasets.samples_generator import make_blobs, make_moons\n",
    "from sklearn.cross_validation import train_test_split\n",
    "from sklearn.cluster import KMeans, SpectralClustering\n",
    "from sklearn.ensemble import RandomForestClassifier, AdaBoostClassifier, ExtraTreesClassifier\n",
    "from sklearn.naive_bayes import GaussianNB\n",
    "from sklearn.metrics import confusion_matrix\n",
    "from sklearn.svm import SVC # \"Support Vector Classifier\"\n",
    "\n",
    "sns.set_context(\"talk\", font_scale=1.3)\n",
    "\n",
    "ben_style = {'axes.axisbelow': True,\n",
    " 'axes.edgecolor': '0',\n",
    " 'axes.facecolor': 'white',\n",
    " 'axes.grid': True,\n",
    " 'axes.labelcolor': '.15',\n",
    " 'axes.linewidth': 1,\n",
    " 'figure.facecolor': 'white',\n",
    " 'font.family': [u'sans-serif'],\n",
    "             'font.size': 75,\n",
    " 'font.sans-serif': [u'Helvetica Neue',\n",
    "                     u'sans-serif'],\n",
    " 'grid.color': '0.9',\n",
    " 'grid.linestyle': u'',\n",
    " 'image.cmap': u'Greys',\n",
    " 'legend.frameon': False,\n",
    " 'legend.numpoints': 1,\n",
    " 'legend.scatterpoints': 1,\n",
    " 'lines.solid_capstyle': u'round',\n",
    " 'text.color': '.15',\n",
    " 'xtick.color': '.15',\n",
    " 'xtick.direction': u'in',\n",
    " 'xtick.major.size': 3.0,\n",
    " 'xtick.minor.size': 2.0,\n",
    " 'ytick.color': '.15',\n",
    " 'ytick.direction': u'in',\n",
    " 'ytick.major.size': 3.0,\n",
    " 'ytick.minor.size': 2.0}\n",
    "\n",
    "sns.set_style(\"white\", ben_style)\n",
    "\n",
    "service_location = \"http://localhost:3000\"\n",
    "debug = False\n",
    "\n",
    "def printd(str):\n",
    "    if debug:\n",
    "        print str\n",
    "\n",
    "def get_collection_member(id=None, **kw):\n",
    "    global service_location\n",
    "    \n",
    "    if id is None:\n",
    "        return\n",
    "    return requests.get(service_location+'/collection/%s/member'%(id))\n",
    "\n",
    "def get_ko(id=None, query=None):\n",
    "    global service_location\n",
    "    query_string = \"\"\n",
    "    \n",
    "    if not id and not query:\n",
    "        return\n",
    "    if type(id) is list:\n",
    "        #id = [x for x in id if x != None]\n",
    "        print id\n",
    "        query = {\"_id\":{\"$in\":id}}\n",
    "        id = None\n",
    "    if query:\n",
    "        query_string = \"?where=%s\"%(json.dumps(query))\n",
    "    if id is None:\n",
    "        id = \"\"\n",
    "    \n",
    "    request = service_location+'/ko/%s%s'%(id, query_string)\n",
    "    printd(request)\n",
    "    return requests.get(request)\n",
    "\n",
    "def create_ko(ko):\n",
    "    global service_location\n",
    "    return requests.post(service_location+'/ko', json=ko)\n",
    "\n",
    "def create_collection(col):\n",
    "    global service_location\n",
    "    return requests.post(service_location+'/collection',json=col)\n",
    "\n",
    "def tag_search(tag):\n",
    "    element = {\"key\":tag['key']}\n",
    "    if \"value\" in tag:\n",
    "        element['value'] = tag['value']\n",
    "        \n",
    "    search = {\"tag\":{\"$elemMatch\":element}}\n",
    "    return search\n",
    "    \n",
    "def get_collection(id=None,query=None):\n",
    "    global service_location\n",
    "    query_string = \"?where=\"\n",
    "    \n",
    "    if not id and not query:\n",
    "        return\n",
    "    if query:\n",
    "        query_string = \"?where=%s\"%(json.dumps(query))\n",
    "    if id is None:\n",
    "        id = \"\"\n",
    "        \n",
    "    request = service_location+'/collection/%s%s'%(id, query_string)\n",
    "    printd(request)\n",
    "    return requests.get(request)"
   ]
  },
  {
   "cell_type": "markdown",
   "metadata": {},
   "source": [
    "# Create test datasets\n",
    "In this case we are making a n=5 of \"gaussian blobs\" with st_dev=1. \n",
    "We will look at 2 cases, \n",
    "* easy case: The blobs are well separated\n",
    "* medium case: Blobs overlap slightly\n",
    "* harder case: Blobs are moon shaped and intersect"
   ]
  },
  {
   "cell_type": "code",
   "execution_count": null,
   "metadata": {
    "collapsed": false
   },
   "outputs": [],
   "source": [
    "# Blobs with 4 -- slight overlaps\n",
    "num_centers = 5\n",
    "st_dev = 1\n",
    "n_samples = 1000\n",
    "noise = 0.12\n",
    "#Easy Case\n",
    "#x,y = make_blobs(n_samples=n_samples, centers=num_centers, cluster_std=st_dev, random_state=10)\n",
    "\n",
    "#Medium Case\n",
    "x,y = make_blobs(n_samples=n_samples, centers=num_centers, cluster_std=st_dev, random_state=0)\n",
    "dataset = {\"x\":x.tolist(), \"y\":y.tolist()}\n",
    "\n",
    "#Harder Case\n",
    "# x,y = make_moons(n_samples=n_samples, noise=noise)\n",
    "# dataset = {\"x\":x.tolist(), \"y\":y.tolist()}\n"
   ]
  },
  {
   "cell_type": "markdown",
   "metadata": {},
   "source": [
    "# Create ko"
   ]
  },
  {
   "cell_type": "code",
   "execution_count": null,
   "metadata": {
    "collapsed": false
   },
   "outputs": [],
   "source": [
    "sample_ko = {\"owner\":\"blaiszik\",\"key\":\"test\",\"object\":\"test\",\"uri\":[\"http://google.com\"],\"data\":dataset}\n",
    "r = create_ko(sample_ko)\n",
    "result = r.json()\n",
    "new_id =  result['_id']\n",
    "print \"Created ko: %s\"%(result['_id'])"
   ]
  },
  {
   "cell_type": "markdown",
   "metadata": {},
   "source": [
    "# Create a Collection and add ko"
   ]
  },
  {
   "cell_type": "code",
   "execution_count": null,
   "metadata": {
    "collapsed": false
   },
   "outputs": [],
   "source": [
    "sample_collection = {\"owner\":\"blaiszik\",\"name\":\"aps-tutorial\", \"uri\":[], \"tag\":[{\"key\":\"tutorial-new6\", \"value\":None}]}\n",
    "sample_collection['member'] = [{\"data_type\":\"ko\", \"_id\": result['_id']}\n",
    "                              ]\n",
    "sample_collection['tag']\n",
    "r = create_collection([sample_collection])"
   ]
  },
  {
   "cell_type": "markdown",
   "metadata": {},
   "source": [
    "# Load a Collection and read ko members"
   ]
  },
  {
   "cell_type": "code",
   "execution_count": null,
   "metadata": {
    "collapsed": false
   },
   "outputs": [],
   "source": [
    "# Get a collection based on a tag search\n",
    "r = get_collection(query=tag_search({\"key\":\"tutorial-new6\"}))\n",
    "result = r.json()[0]\n",
    "\n",
    "#Read collection ko members\n",
    "ids = [member['_id'] if member['data_type']=='ko' else None \n",
    "       for member in result['member']]\n",
    "r = get_ko(id=ids)\n",
    "r.json()"
   ]
  },
  {
   "cell_type": "markdown",
   "metadata": {},
   "source": [
    "# Get ko By ID or by Query"
   ]
  },
  {
   "cell_type": "code",
   "execution_count": null,
   "metadata": {
    "collapsed": false
   },
   "outputs": [],
   "source": [
    "print \"Getting ko %s\"%(new_id)\n",
    "r = get_ko(new_id)\n",
    "\n",
    "# print \"Getting ko by query:\"\n",
    "# query = {\"owner\":\"wilde\"}\n",
    "# r = get_ko(query=query)\n",
    "\n",
    "result =  r.json()\n",
    "\n",
    "#r = get_ko(id=[\"5679aad366304c16141be297\",\"5679aad366304c16141be297\"])\n",
    "r.json()"
   ]
  },
  {
   "cell_type": "code",
   "execution_count": null,
   "metadata": {
    "collapsed": false
   },
   "outputs": [],
   "source": [
    "df1 = pd.DataFrame(result['data']['x'], columns=[\"x1\",\"x2\"])\n",
    "df2 = pd.DataFrame(result['data']['y'], columns=[\"y\"])\n",
    "df = pd.concat([df1,df2], axis=1)"
   ]
  },
  {
   "cell_type": "code",
   "execution_count": null,
   "metadata": {
    "collapsed": false
   },
   "outputs": [],
   "source": [
    "plt.scatter(df['x1'], df['x2'], c=df['y'], s=50, cmap=plt.cm.RdBu_r);\n",
    "sns.despine()"
   ]
  },
  {
   "cell_type": "markdown",
   "metadata": {},
   "source": [
    "# Classifier Testing"
   ]
  },
  {
   "cell_type": "code",
   "execution_count": null,
   "metadata": {
    "collapsed": false
   },
   "outputs": [],
   "source": [
    "clfs = [ \n",
    "        (ExtraTreesClassifier(n_estimators=10), \"Extra Trees\"),\n",
    "        (RandomForestClassifier(n_estimators=10), \"Random Forest\"),\n",
    "        (GaussianNB(), \"Gaussian Naive-Bayes\")\n",
    "        ]\n",
    "\n",
    "for i, (clf,title) in enumerate(clfs):\n",
    "    clf.fit(df[['x1','x2']], df['y'])\n",
    "    fig  = sns.lmplot(x=\"x1\", y=\"x2\", data=df, order=1, hue=\"y\", fit_reg=False, scatter_kws={\"s\": 50});\n",
    "    fig.ax.set_ylabel('x1')\n",
    "    fig.ax.set_xlabel('x2')\n",
    "    fig.ax.set_title(title)\n",
    "    \n",
    "    ## Plot decision contour or probability function\n",
    "    h = .01  # step size in the mesh\n",
    "    x_min, x_max = df['x1'].min() - 1, df['x1'].max() + 1\n",
    "    y_min, y_max = df['x2'].min() - 1, df['x2'].max() + 1\n",
    "    xx, yy = np.meshgrid(np.arange(x_min, x_max, h),\n",
    "                              np.arange(y_min, y_max, h))\n",
    "    if hasattr(clf, \"decision_function\"):\n",
    "        Z = clf.decision_function(np.c_[xx.ravel(), yy.ravel()])\n",
    "    else:\n",
    "        Z = clf.predict_proba(np.c_[xx.ravel(), yy.ravel()])[:, 1]\n",
    "    Z = Z.reshape(xx.shape)\n",
    "    fig.ax.contourf(xx, yy, Z, alpha=0.2, cmap=plt.cm.RdBu_r)"
   ]
  },
  {
   "cell_type": "markdown",
   "metadata": {},
   "source": [
    "# Clustering"
   ]
  },
  {
   "cell_type": "markdown",
   "metadata": {},
   "source": [
    "### Find the optimal number of clusters\n",
    "* Automatic grouping of similar objects into sets.\n",
    "* Applications: Customer segmentation, Grouping experiment outcomes"
   ]
  },
  {
   "cell_type": "code",
   "execution_count": null,
   "metadata": {
    "collapsed": false
   },
   "outputs": [],
   "source": [
    "distortions = []\n",
    "silhouette_range = range(1,10)\n",
    "\n",
    "for i in silhouette_range:\n",
    "    km = KMeans(n_clusters=i, \n",
    "                init='k-means++', \n",
    "                n_init=10, \n",
    "                max_iter=300, \n",
    "                random_state=0)\n",
    "    km.fit(df[['x1','x2']])\n",
    "    distortions .append(km.inertia_)\n",
    "plt.plot(silhouette_range, distortions , marker='o')\n",
    "plt.xlabel('Number of clusters')\n",
    "plt.ylabel('Distortion')\n",
    "plt.tight_layout()\n",
    "#plt.savefig('./figures/elbow.png', dpi=300)\n",
    "sns.despine()\n",
    "plt.show()"
   ]
  },
  {
   "cell_type": "markdown",
   "metadata": {},
   "source": [
    "### Silhouette Averages"
   ]
  },
  {
   "cell_type": "code",
   "execution_count": null,
   "metadata": {
    "collapsed": false
   },
   "outputs": [],
   "source": [
    "import numpy as np\n",
    "from matplotlib import cm\n",
    "from sklearn.metrics import silhouette_samples\n",
    "\n",
    "silhouette_avg = []\n",
    "silhouette_range = range(2,10)\n",
    "\n",
    "for i in silhouette_range:    \n",
    "    km = KMeans(n_clusters=i, \n",
    "                init='k-means++', \n",
    "                n_init=10, \n",
    "                max_iter=300,\n",
    "                tol=1e-04,\n",
    "                random_state=0)\n",
    "    y_km = km.fit_predict(df[['x1','x2']])\n",
    "    \n",
    "    silhouette_vals = silhouette_samples(df[['x1','x2']], y_km, metric='euclidean')\n",
    "    silhouette_avg.append(np.mean(silhouette_vals))\n",
    "plt.plot(silhouette_range, silhouette_avg , marker='o')\n",
    "sns.despine()\n",
    "\n",
    "\n"
   ]
  },
  {
   "cell_type": "markdown",
   "metadata": {},
   "source": [
    "# K-Means Clustering"
   ]
  },
  {
   "cell_type": "code",
   "execution_count": null,
   "metadata": {
    "collapsed": false
   },
   "outputs": [],
   "source": [
    "show_decision = True\n",
    "show_centroids = True\n",
    "\n",
    "#K-Means\n",
    "clr = KMeans(n_clusters=num_centers)\n",
    "y_pred = clr.fit_predict(df[['x1','x2']])\n",
    "\n",
    "##Decision Boundary\n",
    "if show_decision:\n",
    "    # Step size of the mesh. Decrease to increase the quality of the VQ.\n",
    "    h = .02     # point in the mesh [x_min, m_max]x[y_min, y_max].\n",
    "\n",
    "    # Plot the decision boundary. For that, we will assign a color to each\n",
    "    x_min, x_max = df['x1'].min() - 1, df['x1'].max() + 1\n",
    "    y_min, y_max = df['x2'].min() - 1, df['x2'].max() + 1\n",
    "    xx, yy = np.meshgrid(np.arange(x_min, x_max, h), np.arange(y_min, y_max, h))\n",
    "    \n",
    "    Z = clr.predict(np.c_[xx.ravel(), yy.ravel()])\n",
    "\n",
    "    # Put the result into a color plot\n",
    "    Z = Z.reshape(xx.shape)\n",
    "    plt.figure(1)\n",
    "    plt.clf()\n",
    "\n",
    "    plt.imshow(Z, interpolation='nearest',\n",
    "               extent=(xx.min(), xx.max(), yy.min(), yy.max()),\n",
    "               cmap=plt.cm.RdBu_r,\n",
    "               aspect='auto', origin='lower', alpha=0.25, zorder=0)\n",
    "    sns.despine()\n",
    "\n",
    "plt.scatter(df['x1'],df['x2'], c=df['y'], cmap=plt.cm.RdBu_r, zorder=1)\n",
    "ax = plt.gca()\n",
    "ax.set_xlabel('x1')\n",
    "ax.set_ylabel('x2')\n",
    "\n",
    "if show_centroids:\n",
    "    # Plot the centroids as a green  X\n",
    "    centroids = clr.cluster_centers_\n",
    "    plt.scatter(centroids[:, 0], centroids[:, 1],\n",
    "                marker='o', s=100, linewidths=8,\n",
    "                color='darkblue', zorder=2)"
   ]
  },
  {
   "cell_type": "markdown",
   "metadata": {},
   "source": [
    "# Deep Neural Network"
   ]
  },
  {
   "cell_type": "code",
   "execution_count": null,
   "metadata": {
    "collapsed": false
   },
   "outputs": [],
   "source": [
    "df[['x1','x2']].info()"
   ]
  },
  {
   "cell_type": "code",
   "execution_count": null,
   "metadata": {
    "collapsed": false
   },
   "outputs": [],
   "source": [
    "import skflow\n",
    "from sklearn import datasets, metrics\n",
    "\n",
    "iris = datasets.load_iris()\n",
    "clf = skflow.TensorFlowDNNClassifier(hidden_units=[100, 200, 100], n_classes=4)\n",
    "\n",
    "clf.fit(iris.data, iris.target)\n",
    "score = metrics.accuracy_score(clf.predict(iris.data), iris.target)\n",
    "print(\"Accuracy: %f\" % score)"
   ]
  },
  {
   "cell_type": "code",
   "execution_count": null,
   "metadata": {
    "collapsed": true
   },
   "outputs": [],
   "source": []
  }
 ],
 "metadata": {
  "kernelspec": {
   "display_name": "Python 2",
   "language": "python",
   "name": "python2"
  },
  "language_info": {
   "codemirror_mode": {
    "name": "ipython",
    "version": 2
   },
   "file_extension": ".py",
   "mimetype": "text/x-python",
   "name": "python",
   "nbconvert_exporter": "python",
   "pygments_lexer": "ipython2",
   "version": "2.7.10"
  }
 },
 "nbformat": 4,
 "nbformat_minor": 0
}
